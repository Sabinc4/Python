{
  "nbformat": 4,
  "nbformat_minor": 0,
  "metadata": {
    "colab": {
      "provenance": []
    },
    "kernelspec": {
      "name": "python3",
      "display_name": "Python 3"
    },
    "language_info": {
      "name": "python"
    }
  },
  "cells": [
    {
      "cell_type": "code",
      "execution_count": null,
      "metadata": {
        "colab": {
          "base_uri": "https://localhost:8080/"
        },
        "id": "rLVP5egXn7WI",
        "outputId": "b81d6978-1362-4bf2-fc8f-7637f8d3919c"
      },
      "outputs": [
        {
          "output_type": "stream",
          "name": "stdout",
          "text": [
            "Comparisons needed in the given case: 2\n",
            "Comparisons needed in the best-case scenario: 3\n",
            "Comparisons needed in the worst-case scenario: 10\n"
          ]
        }
      ],
      "source": [
        "def binary_sabin(key, marks):\n",
        "    comparisons = 0\n",
        "    low = 0\n",
        "    high = len(marks) - 1\n",
        "\n",
        "    while low <= high:\n",
        "        comparisons += 1\n",
        "        mid = (low + high) // 2\n",
        "\n",
        "        if marks[mid] == key:\n",
        "          return comparisons\n",
        "        elif marks[mid] < key:\n",
        "          low = mid + 1\n",
        "        else:\n",
        "          high = mid - 1\n",
        "    return -1\n",
        "\n",
        "# Example case: key=100, marks=[20, 30, 40, 50, 60, 65, 80, 95, 100, 105, 107]\n",
        "key = 100\n",
        "marks = [20, 30, 40, 50, 60, 65, 80, 95, 100, 105, 107]\n",
        "result = binary_sabin(key, marks)\n",
        "print(\"Comparisons needed in the given case:\", result)\n",
        "\n",
        "# Best-case scenario: key=100 at the sixth place (middle element), marks=[60, 65, 80, 95, 100, 105, 107]\n",
        "key = 100\n",
        "marks = [60, 65, 80, 95, 100, 105, 107]\n",
        "result = binary_sabin(key, marks)\n",
        "print(\"Comparisons needed in the best-case scenario:\", result)\n",
        "\n",
        "# Worst-case scenario: key not found, 1000 elements in the list\n",
        "key = 999\n",
        "marks_list = list(range(1000))\n",
        "result = binary_sabin(key, marks_list)\n",
        "print(\"Comparisons needed in the worst-case scenario:\", result)\n"
      ]
    }
  ]
}