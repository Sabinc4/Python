{
  "nbformat": 4,
  "nbformat_minor": 0,
  "metadata": {
    "colab": {
      "provenance": []
    },
    "kernelspec": {
      "name": "python3",
      "display_name": "Python 3"
    },
    "language_info": {
      "name": "python"
    }
  },
  "cells": [
    {
      "cell_type": "markdown",
      "source": [
        "SABIN CHAULAGAIN ID:2358554"
      ],
      "metadata": {
        "id": "XjHwtKZ7enQb"
      }
    },
    {
      "cell_type": "code",
      "source": [
        "length = 10 # variable1\n",
        "width = 5 # variable2\n",
        "area = length * width # This is called an expression\n",
        "print ( area )"
      ],
      "metadata": {
        "colab": {
          "base_uri": "https://localhost:8080/"
        },
        "id": "i1RAPXLyepsc",
        "outputId": "597ea846-c4e8-41a7-f35f-34b8b5fe29ea"
      },
      "execution_count": null,
      "outputs": [
        {
          "output_type": "stream",
          "name": "stdout",
          "text": [
            "50\n"
          ]
        }
      ]
    },
    {
      "cell_type": "markdown",
      "source": [
        "Above program helps us to understands about variables in python with its formula and it takes lenght and width as its formula ask about the variable."
      ],
      "metadata": {
        "id": "3NafhhMigGxb"
      }
    },
    {
      "cell_type": "code",
      "source": [
        "# Example 2:\n",
        "print(7+8.5)\n",
        "# 7 is int type & 8.5 is float type , but mixing these two programs run well."
      ],
      "metadata": {
        "colab": {
          "base_uri": "https://localhost:8080/"
        },
        "id": "d9UP1POTfLnd",
        "outputId": "9a10a2a1-67a5-4c3c-f59f-dfa4105e4325"
      },
      "execution_count": null,
      "outputs": [
        {
          "output_type": "stream",
          "name": "stdout",
          "text": [
            "15.5\n"
          ]
        }
      ]
    },
    {
      "cell_type": "markdown",
      "source": [
        "Explicit Conversion"
      ],
      "metadata": {
        "id": "98uzmlHXfiWM"
      }
    },
    {
      "cell_type": "code",
      "source": [
        "# Example 3:\n",
        "base = 6 #base\n",
        "height = 2 #height\n",
        "area = base * height /2 #area\n",
        "print (\" Area is \" + str( area ))\n",
        "# changed , int type , ’area ’ to string"
      ],
      "metadata": {
        "colab": {
          "base_uri": "https://localhost:8080/"
        },
        "id": "2JKmn8YgfqCp",
        "outputId": "52107cb9-540a-468e-f1cc-397860845738"
      },
      "execution_count": null,
      "outputs": [
        {
          "output_type": "stream",
          "name": "stdout",
          "text": [
            " Area is 6.0\n"
          ]
        }
      ]
    },
    {
      "cell_type": "markdown",
      "source": [
        "Exercise 1 :Write a program to prompt the user for hours and rate per hour using input( ) to compute gross pay. Pay the hourly rate for the hours up to 40 and 1.5 times the hourly rate for all hours worked above 40 hours. Use 45 hours and a rate of 10.50 per hour to test the program (the pay should be 498.75)."
      ],
      "metadata": {
        "id": "-auKsf05inOH"
      }
    },
    {
      "cell_type": "code",
      "source": [
        "hrs = input(\"Enter Hours:\")\n",
        "h = float(hrs)\n",
        "rate = input(\"Enter the rate per hour:\")\n",
        "r = float(rate)\n",
        "# complete the program\n",
        "\n",
        "if h<=40:\n",
        "  #pay the hourly rate for hours up to 40\n",
        "  gross_pay=h*r\n",
        "else:\n",
        "  #Pay the hourly rate for first 40 hours\n",
        "  overtime_hours=h-40\n",
        "  gross_pay=(40*r)+(overtime_hours*r*1.5)\n",
        "\n",
        "  print(\"Gross pay:\",gross_pay)\n"
      ],
      "metadata": {
        "colab": {
          "base_uri": "https://localhost:8080/"
        },
        "id": "xSQ8vqhJixbS",
        "outputId": "86caeb32-9db1-45dc-eba1-2900ba1926c6"
      },
      "execution_count": null,
      "outputs": [
        {
          "output_type": "stream",
          "name": "stdout",
          "text": [
            "Enter Hours:45\n",
            "Enter the rate per hour:10.50\n",
            "Gross pay: 498.75\n"
          ]
        }
      ]
    },
    {
      "cell_type": "markdown",
      "source": [
        "Function"
      ],
      "metadata": {
        "id": "hIjG2-UXo3zn"
      }
    },
    {
      "cell_type": "code",
      "source": [
        "#Example 4:\n",
        "def greeting (name): #passing parameters/argumets to the function\n",
        "  print(\"welcome \", name)\n",
        "greeting(\"Type_Your_Name\")"
      ],
      "metadata": {
        "colab": {
          "base_uri": "https://localhost:8080/"
        },
        "id": "6WiPF_IIo_an",
        "outputId": "fbb02d07-f324-4e08-bf57-bcc3510f1886"
      },
      "execution_count": null,
      "outputs": [
        {
          "output_type": "stream",
          "name": "stdout",
          "text": [
            "welcome  Type_Your_Name\n"
          ]
        }
      ]
    },
    {
      "cell_type": "code",
      "source": [
        "#Example 5:\n",
        "## getting values out of the function(return values)\n",
        "def area_traingle(b, h):\n",
        "  return b*h/2\n",
        "  area = area_traingle(4, 8)\n",
        "  print(\"area of traingle is: \" + str(area))"
      ],
      "metadata": {
        "id": "ufYyV5Z-qNSF"
      },
      "execution_count": null,
      "outputs": []
    },
    {
      "cell_type": "code",
      "source": [
        "#example 6:\n",
        "def order_number(number1,number2):\n",
        "  if number2>number1:\n",
        "    return number1,number2\n",
        "  else:\n",
        "\n",
        "    return number2,number1\n",
        "    #Example Use\n",
        "    smaller,bigger=order_number(3,8)\n",
        "    print(smaller,bigger)"
      ],
      "metadata": {
        "id": "GMk7s2wmqlFr"
      },
      "execution_count": null,
      "outputs": []
    },
    {
      "cell_type": "markdown",
      "source": [
        "4: **Conditionals**"
      ],
      "metadata": {
        "id": "Ur0_mhBgsQqa"
      }
    },
    {
      "cell_type": "code",
      "source": [
        "#Example -7\n",
        "#Even or Odd\n",
        "def is_Even(number):\n",
        "  if (number%2 == 0):\n",
        "    return True\n",
        "    return False\n",
        "    is_Even(7)"
      ],
      "metadata": {
        "id": "IYkB4zuHsWuD"
      },
      "execution_count": null,
      "outputs": []
    },
    {
      "cell_type": "code",
      "source": [
        "#Example -8\n",
        "def number_group(number):\n",
        "    if number > 0:\n",
        "      return \"Positive\"\n",
        "    elif number == 0:\n",
        "      return \"Zero\"\n",
        "    else:\n",
        "        return \"Negative\"\n",
        "print(number_group(10)) #Should be Positive\n",
        "print(number_group(0)) #Should be Zero\n",
        "print(number_group(-5)) #Should be Negative"
      ],
      "metadata": {
        "colab": {
          "base_uri": "https://localhost:8080/"
        },
        "id": "c7_ZG18Wsq4A",
        "outputId": "05b07ac1-3bb3-46a3-fa0f-15bf65a0116e"
      },
      "execution_count": null,
      "outputs": [
        {
          "output_type": "stream",
          "name": "stdout",
          "text": [
            "Positive\n",
            "Zero\n",
            "Negative\n"
          ]
        }
      ]
    },
    {
      "cell_type": "markdown",
      "source": [
        "**Loops:**\n",
        "In computer programming, loops are used to repeat a block of code. For example, if we want to show a message 100 times, then we can use a loop. It’s just a simple example; you can achieve much more with loops.\n",
        "There are 2 types of loops in Python:"
      ],
      "metadata": {
        "id": "WWjwO-vgtLcM"
      }
    },
    {
      "cell_type": "markdown",
      "source": [
        "While Loop"
      ],
      "metadata": {
        "id": "HQbtY0p8tX3b"
      }
    },
    {
      "cell_type": "code",
      "source": [
        "# Example -9\n",
        "#while loop\n",
        "x = 0 # initialzation of variable Why=?\n",
        "while x<5:\n",
        "  print(\"Not there yet, x= \" + str(x))\n",
        "  x = x+1\n",
        "print(\"x= \"+str(x))\n",
        "#Not there yet,x=o\n",
        "#Not there yet,x=1\n",
        "#Not there yet,x=2\n",
        "#Not there yet,x=3\n",
        "#Not there yet,x=4\n",
        "#x=5"
      ],
      "metadata": {
        "colab": {
          "base_uri": "https://localhost:8080/"
        },
        "id": "MGUKaIfgtakX",
        "outputId": "f1b207b6-404b-42b4-ca65-10f8c6ad045b"
      },
      "execution_count": null,
      "outputs": [
        {
          "output_type": "stream",
          "name": "stdout",
          "text": [
            "Not there yet, x= 0\n",
            "Not there yet, x= 1\n",
            "Not there yet, x= 2\n",
            "Not there yet, x= 3\n",
            "Not there yet, x= 4\n",
            "x= 5\n"
          ]
        }
      ]
    },
    {
      "cell_type": "code",
      "source": [
        "#Example\n",
        "def count_down(start_number):\n",
        "  current=3 #initialzation of variable\n",
        "  while(current > 0):\n",
        "      print(current)\n",
        "      current -= 1\n",
        "  print(\"Zero!\")\n",
        "  count_down(3)\n",
        "#output=??"
      ],
      "metadata": {
        "id": "o0YzS7XRuxTm"
      },
      "execution_count": null,
      "outputs": []
    },
    {
      "cell_type": "markdown",
      "source": [
        "INFINITY Loop with While in Python:"
      ],
      "metadata": {
        "id": "X75DQFzKwR7R"
      }
    },
    {
      "cell_type": "code",
      "source": [
        "#Infinite loops and how to break them?\n",
        "#while x%2 == 0:\n",
        "#x = x/2\n",
        "#what happens here when x = 0 (infinite loop)\n",
        "#can you solve this?\n",
        "while x%2==0:\n",
        "  if x==0:\n",
        "    break\n",
        "    x=x/2"
      ],
      "metadata": {
        "id": "z6UWQPngwYVp"
      },
      "execution_count": null,
      "outputs": []
    },
    {
      "cell_type": "code",
      "source": [
        "#Example-12\n",
        "#Solution of Example 11\n",
        "if x != 0:\n",
        "   while x%2 == 0:\n",
        "    x = x/2\n",
        "     #or\n",
        "while x != 0 and x%2 == 0:\n",
        "   x = x/2"
      ],
      "metadata": {
        "id": "s-GfckDgx4K1"
      },
      "execution_count": null,
      "outputs": []
    },
    {
      "cell_type": "markdown",
      "source": [
        "For LOOP"
      ],
      "metadata": {
        "id": "R5Tirnu3zLS4"
      }
    },
    {
      "cell_type": "code",
      "source": [
        "#Example -13\n",
        "# for loop, iterates over a sequence of values\n",
        "for x in range(5):\n",
        "   print(x)\n",
        "#Output=??\n",
        "#0\n",
        "#1\n",
        "#2\n",
        "#3\n",
        "#4"
      ],
      "metadata": {
        "colab": {
          "base_uri": "https://localhost:8080/"
        },
        "id": "zeGIh3a_zNve",
        "outputId": "46c1b976-4805-43da-f2aa-a6cc41a9b1f8"
      },
      "execution_count": null,
      "outputs": [
        {
          "output_type": "stream",
          "name": "stdout",
          "text": [
            "0\n",
            "1\n",
            "2\n",
            "3\n",
            "4\n"
          ]
        }
      ]
    },
    {
      "cell_type": "code",
      "source": [
        "#Example -14\n",
        "def square(n):\n",
        "  return n*n\n",
        "\n",
        "def sum_squares(x):\n",
        "   sum = 0\n",
        "   for n in range(10):\n",
        "    sum += square(n)\n",
        "    return sum\n",
        "    print(sum_squares(10)) #Output=285\n",
        "#Explain what the program does?\n",
        "#Sum of number from 0-9 which gets output 285."
      ],
      "metadata": {
        "id": "IF_rD2gxzcvV"
      },
      "execution_count": null,
      "outputs": []
    },
    {
      "cell_type": "code",
      "source": [
        "# Example -15\n",
        "values = [10, 20, 30, 40, 50]\n",
        "Sum = 0\n",
        "length = 0\n",
        "for value in values:\n",
        "  Sum = Sum+value\n",
        "  length = length+1\n",
        "print(\"Total sum= \"+str(Sum)+\"and the Average=\"+str(Sum/length))\n",
        "\n",
        "#Output=?? 150 total sum and average is 30.0\n",
        "# Explain what the program does?\n",
        "#In the above program the program add or sum 10,20,30,40,50 and makes output as 150 and avegare as 30.0"
      ],
      "metadata": {
        "colab": {
          "base_uri": "https://localhost:8080/"
        },
        "id": "Qpt3xWl20dJG",
        "outputId": "2151dac7-9539-468a-8be8-a224ce868bbf"
      },
      "execution_count": null,
      "outputs": [
        {
          "output_type": "stream",
          "name": "stdout",
          "text": [
            "Total sum= 150and the Average=30.0\n"
          ]
        }
      ]
    },
    {
      "cell_type": "markdown",
      "source": [
        "**Nested Loop:**"
      ],
      "metadata": {
        "id": "g9KRQmTb1DEk"
      }
    },
    {
      "cell_type": "code",
      "source": [
        "# Example -16\n",
        "#nested for loops\n",
        "for left in range(7):\n",
        "  for right in range(left, 7):\n",
        "     print(\"[\"+str(left)+\"|\"+str(right)+\"]\", end=\" \")\n",
        "     print ()\n",
        "#Output=[0|0]\n",
        "#[0|1]\n",
        "#[0|2]\n",
        "#[0|3]\n",
        "#[0|4]\n",
        "#[0|5]\n",
        "#[0|6]\n",
        "#[1|1]\n",
        "#[1|2]\n",
        "#[1|3]\n",
        "#[1|4]\n",
        "#[1|5]\n",
        "#[1|6]\n",
        "#[2|2]\n",
        "#[2|3]\n",
        "#[2|4]\n",
        "#[2|5]\n",
        "#[2|6]\n",
        "#[3|3]\n",
        "#[3|4]\n",
        "#[3|5]\n",
        "#[3|6]\n",
        "#[4|4]\n",
        "#[4|5]\n",
        "#[4|6]\n",
        "#[5|5]\n",
        "#[5|6]\n",
        "#[6|6]\n",
        "#Explain what the program does?\n",
        "#The above program gives or provides the possible pairs of number from 0 to 6(inclusive and printsbthem in specified format).\n"
      ],
      "metadata": {
        "colab": {
          "base_uri": "https://localhost:8080/"
        },
        "id": "8kbOEIdD1HNR",
        "outputId": "89f21dca-c954-4cd6-8246-23b0a77c2311"
      },
      "execution_count": null,
      "outputs": [
        {
          "output_type": "stream",
          "name": "stdout",
          "text": [
            "[0|0] \n",
            "[0|1] \n",
            "[0|2] \n",
            "[0|3] \n",
            "[0|4] \n",
            "[0|5] \n",
            "[0|6] \n",
            "[1|1] \n",
            "[1|2] \n",
            "[1|3] \n",
            "[1|4] \n",
            "[1|5] \n",
            "[1|6] \n",
            "[2|2] \n",
            "[2|3] \n",
            "[2|4] \n",
            "[2|5] \n",
            "[2|6] \n",
            "[3|3] \n",
            "[3|4] \n",
            "[3|5] \n",
            "[3|6] \n",
            "[4|4] \n",
            "[4|5] \n",
            "[4|6] \n",
            "[5|5] \n",
            "[5|6] \n",
            "[6|6] \n"
          ]
        }
      ]
    },
    {
      "cell_type": "markdown",
      "source": [
        "**Week:01**"
      ],
      "metadata": {
        "id": "zjetJaES25Dy"
      }
    },
    {
      "cell_type": "markdown",
      "source": [
        "Write a function fib (n) that prompts the number of terms “n” from the user and displays first “n” terms of Fibonacci sequence iteratively."
      ],
      "metadata": {
        "id": "PjGUNHNd3Czq"
      }
    },
    {
      "cell_type": "code",
      "source": [
        "def sab(n):\n",
        "  x=0\n",
        "  b=1\n",
        "  for i in range(n):\n",
        "    print(x)\n",
        "    c=x+b\n",
        "    x,b=b,c\n",
        "def main():\n",
        "      n=int(input(\"enter a number:\"))\n",
        "      sab(n)\n",
        "main()"
      ],
      "metadata": {
        "colab": {
          "base_uri": "https://localhost:8080/"
        },
        "id": "lBCe_golOioq",
        "outputId": "ef3a7650-11fc-4706-e671-767291573d51"
      },
      "execution_count": null,
      "outputs": [
        {
          "output_type": "stream",
          "name": "stdout",
          "text": [
            "enter a number:5\n",
            "0\n",
            "1\n",
            "1\n",
            "2\n",
            "3\n"
          ]
        }
      ]
    },
    {
      "cell_type": "markdown",
      "source": [
        "Write a function myPow(x, n) that returns , where and n is a non- negative integer.\n",
        "xn\n",
        "Do not use the * * operator or the math.pow function - use one while loop."
      ],
      "metadata": {
        "id": "Dx5AKStaC9tb"
      }
    },
    {
      "cell_type": "code",
      "source": [
        "def mypow(x,n):\n",
        "  result=1.0\n",
        "  while n:\n",
        "    result=result*x\n",
        "    n=n-1\n",
        "    return result\n",
        "\n",
        "def main():\n",
        "      x=int(input(\"Enter a number to find square/cube\"))\n",
        "      n=int(input(\"enter power for square or cube\"))\n",
        "      result=mypow(x,n)\n",
        "      print(\"result:\",result)\n",
        "\n",
        "main()"
      ],
      "metadata": {
        "colab": {
          "base_uri": "https://localhost:8080/"
        },
        "id": "AdegJan6Xdk_",
        "outputId": "333abed5-7a26-4bdf-a134-cdce1baeecb2"
      },
      "execution_count": null,
      "outputs": [
        {
          "output_type": "stream",
          "name": "stdout",
          "text": [
            "Enter a number to find square/cube2\n",
            "enter power for square or cube3\n",
            "result: 2.0\n"
          ]
        }
      ]
    },
    {
      "cell_type": "markdown",
      "source": [
        "Write a function SumDigits(n) that displays the sum of digits of “n”.\n",
        "Hint: SumDigits(234) will be 2+3+4=9"
      ],
      "metadata": {
        "id": "vg4fFVqcDEzS"
      }
    },
    {
      "cell_type": "code",
      "source": [
        "def sumdigits(x):\n",
        "        sum=0\n",
        "        for num in str(x):\n",
        "           sum+=int(num)\n",
        "        print(sum)\n",
        "\n",
        "def main():\n",
        "    x=int(input(\"enter a number:\"))\n",
        "    sumdigits(x)\n",
        "main()"
      ],
      "metadata": {
        "colab": {
          "base_uri": "https://localhost:8080/"
        },
        "id": "CJVRm7K4Q1Dr",
        "outputId": "1b0970bb-5f30-4ec1-b0e6-c708a9934418"
      },
      "execution_count": null,
      "outputs": [
        {
          "output_type": "stream",
          "name": "stdout",
          "text": [
            "enter a number:3\n",
            "3\n"
          ]
        }
      ]
    },
    {
      "cell_type": "markdown",
      "source": [
        "\n",
        "Write a function squaredSum that returns the sum of the squares of an array/list of integers such that squared- Sum([2,3,4]) gives 29. Write your solution in pure Python to show the logic in your solution, do not use any library functions."
      ],
      "metadata": {
        "id": "PO6d4m9hE8hw"
      }
    },
    {
      "cell_type": "code",
      "source": [
        "def squaredSum(a):\n",
        "  sum=0\n",
        "  for num in a:\n",
        "        sum+=num**2\n",
        "  return sum\n",
        "x=[4,5,6]\n",
        "result = squaredSum(x)\n",
        "print(result)"
      ],
      "metadata": {
        "colab": {
          "base_uri": "https://localhost:8080/"
        },
        "id": "-XU7Dov3R6gX",
        "outputId": "c3eca366-be0c-4349-8c11-b4c9608cd57c"
      },
      "execution_count": null,
      "outputs": [
        {
          "output_type": "stream",
          "name": "stdout",
          "text": [
            "77\n"
          ]
        }
      ]
    },
    {
      "cell_type": "markdown",
      "source": [
        "Write a function called sumDigits that is given an integer num and returns the sum of the digits of number. Eg. sumDigits(6) gives 21. Do not use any library functions (if there is one)."
      ],
      "metadata": {
        "id": "Kr28jkYBGPtO"
      }
    },
    {
      "cell_type": "code",
      "source": [
        "def sumdigits(y):\n",
        "  sum=0\n",
        "  for i in range(y+1):\n",
        "    sum=sum+i\n",
        "    print(sum)\n",
        "\n",
        "def main():\n",
        "  y=int(input(\"enter the number to enter:\"))\n",
        "  sumdigits(y)\n",
        "\n",
        "main()\n"
      ],
      "metadata": {
        "colab": {
          "base_uri": "https://localhost:8080/"
        },
        "id": "KKbMlHvMZZc4",
        "outputId": "a3511851-945b-4425-a77d-fdfb7598fa0e"
      },
      "execution_count": null,
      "outputs": [
        {
          "output_type": "stream",
          "name": "stdout",
          "text": [
            "enter the number to enter:5\n",
            "0\n",
            "1\n",
            "3\n",
            "6\n",
            "10\n",
            "15\n"
          ]
        }
      ]
    }
  ]
}